{
 "cells": [
  {
   "cell_type": "markdown",
   "id": "62e6ce36",
   "metadata": {},
   "source": [
    "* Ari G. Eastman\n",
    "* Assignment 1 \n",
    "* Version 1\n",
    "* Fall 2023 (WEEK 2)\n",
    "# Ari Graydon Eastman - Markdown Practice\n",
    "### My name is Ari and I am a graphic designer with my own business! I like to create art and I am interested in coding because I think learning about the functionalities of certain code will allow me opprotunties in the future to explore more art/graphic-design. It is something I am very excited about."
   ]
  },
  {
   "cell_type": "markdown",
   "id": "3ccb1bb3",
   "metadata": {},
   "source": [
    "* Programming  Assignments\n",
    "* Quizzes\n",
    "* Attendance/In-class completed notebook submission\n",
    "* Mid-Term Exam (2)\n",
    "* Project (2)"
   ]
  },
  {
   "cell_type": "markdown",
   "id": "c91372f6",
   "metadata": {},
   "source": [
    "1. Module 0 – Course Introduction\n",
    "2. Module 1 – Variables and Simple Data Types\n",
    "3. Module 2 – Introducing Lists, Tuples\n",
    "4. Module 3 – if Statements\n",
    "5. Module 4 – Dictionaries\n",
    "6. Module 5 – While Loops\n",
    "7. Module 6 – Functions\n",
    "8. Module 7 – Classes\n",
    "9. Module 8 – Numpy"
   ]
  },
  {
   "cell_type": "markdown",
   "id": "93f8181e",
   "metadata": {},
   "source": [
    "**Python**"
   ]
  },
  {
   "cell_type": "markdown",
   "id": "807ad062",
   "metadata": {},
   "source": [
    "*Anaconda*"
   ]
  },
  {
   "cell_type": "markdown",
   "id": "fa44d5e9",
   "metadata": {},
   "source": [
    "I love everything and I just want to say `HelloWorld`."
   ]
  },
  {
   "cell_type": "markdown",
   "id": "39d8c437",
   "metadata": {},
   "source": [
    "<a href=\"https://github.com/AriEastman\">My Github Account</a>"
   ]
  },
  {
   "cell_type": "markdown",
   "id": "8f4e8581",
   "metadata": {},
   "source": [
    "![Bellarmine Logo](https://sports.cbsimg.net/fly/images/ncaa/logos/team/light/160872.svg)"
   ]
  },
  {
   "cell_type": "markdown",
   "id": "0608f43e",
   "metadata": {},
   "source": [
    ">Today our computer programming class I learned how to do basic markdowns and gaining experience in writing markdowns and submitting to my GitHub Account"
   ]
  }
 ],
 "metadata": {
  "kernelspec": {
   "display_name": "Python 3 (ipykernel)",
   "language": "python",
   "name": "python3"
  },
  "language_info": {
   "codemirror_mode": {
    "name": "ipython",
    "version": 3
   },
   "file_extension": ".py",
   "mimetype": "text/x-python",
   "name": "python",
   "nbconvert_exporter": "python",
   "pygments_lexer": "ipython3",
   "version": "3.11.4"
  }
 },
 "nbformat": 4,
 "nbformat_minor": 5
}
